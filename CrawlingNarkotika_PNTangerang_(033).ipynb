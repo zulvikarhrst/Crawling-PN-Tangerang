{
  "cells": [
    {
      "cell_type": "markdown",
      "source": [
        "# Tugas 1\n",
        "Zulvikar Harist\n",
        "\n",
        "202110370311033"
      ],
      "metadata": {
        "id": "Ik6cIvR57Dvz"
      }
    },
    {
      "cell_type": "markdown",
      "metadata": {
        "id": "aNQ6nFOOyFpF"
      },
      "source": [
        "Model Scraping Data dan Extracting Data"
      ]
    },
    {
      "cell_type": "code",
      "execution_count": null,
      "metadata": {
        "id": "kQfCN6WhyLd9"
      },
      "outputs": [],
      "source": [
        "!pip install pandas requests beautifulsoup4 pdfminer.six lxml > /dev/null 2>&1"
      ]
    },
    {
      "cell_type": "code",
      "execution_count": null,
      "metadata": {
        "colab": {
          "base_uri": "https://localhost:8080/"
        },
        "id": "-DvHe9Ye7DLi",
        "outputId": "ebc6dcf7-75d1-46b2-d356-d57deb7a5720"
      },
      "outputs": [
        {
          "output_type": "stream",
          "name": "stdout",
          "text": [
            "Collecting PyPDF2\n",
            "  Downloading pypdf2-3.0.1-py3-none-any.whl.metadata (6.8 kB)\n",
            "Downloading pypdf2-3.0.1-py3-none-any.whl (232 kB)\n",
            "\u001b[?25l   \u001b[90m━━━━━━━━━━━━━━━━━━━━━━━━━━━━━━━━━━━━━━━━\u001b[0m \u001b[32m0.0/232.6 kB\u001b[0m \u001b[31m?\u001b[0m eta \u001b[36m-:--:--\u001b[0m\r\u001b[2K   \u001b[91m━━━━━━━━━━━━━━━━━━━━━━━━━━━━━━━━━━━━━━\u001b[0m\u001b[91m╸\u001b[0m\u001b[90m━\u001b[0m \u001b[32m225.3/232.6 kB\u001b[0m \u001b[31m9.9 MB/s\u001b[0m eta \u001b[36m0:00:01\u001b[0m\r\u001b[2K   \u001b[90m━━━━━━━━━━━━━━━━━━━━━━━━━━━━━━━━━━━━━━━━\u001b[0m \u001b[32m232.6/232.6 kB\u001b[0m \u001b[31m6.2 MB/s\u001b[0m eta \u001b[36m0:00:00\u001b[0m\n",
            "\u001b[?25hInstalling collected packages: PyPDF2\n",
            "Successfully installed PyPDF2-3.0.1\n"
          ]
        }
      ],
      "source": [
        "!pip install PyPDF2"
      ]
    },
    {
      "cell_type": "code",
      "execution_count": null,
      "metadata": {
        "colab": {
          "base_uri": "https://localhost:8080/"
        },
        "id": "YHQ3QUkdyhjV",
        "outputId": "9b14a536-e61a-44ce-d0fd-be0d2519655d"
      },
      "outputs": [
        {
          "output_type": "stream",
          "name": "stdout",
          "text": [
            "Mounted at /content/drive\n"
          ]
        }
      ],
      "source": [
        "from google.colab import drive\n",
        "drive.mount('/content/drive')"
      ]
    },
    {
      "cell_type": "code",
      "execution_count": null,
      "metadata": {
        "id": "TQL4QdgujJz1"
      },
      "outputs": [],
      "source": [
        "import argparse\n",
        "import io\n",
        "import os\n",
        "import re\n",
        "import time\n",
        "import urllib\n",
        "from concurrent.futures import ThreadPoolExecutor, wait\n",
        "from datetime import date\n",
        "import pandas as pd\n",
        "import requests\n",
        "from bs4 import BeautifulSoup\n",
        "from pdfminer import high_level\n",
        "from PyPDF2 import PdfReader"
      ]
    },
    {
      "cell_type": "markdown",
      "metadata": {
        "id": "fzVLJFfQkMjj"
      },
      "source": [
        "**Membuat Path**"
      ]
    },
    {
      "cell_type": "code",
      "execution_count": null,
      "metadata": {
        "id": "ICRo99tcjNcz"
      },
      "outputs": [],
      "source": [
        "def create_path(folder_name):\n",
        "    path = os.path.join(os.getcwd(), folder_name)\n",
        "    if not os.path.exists(path):\n",
        "        os.makedirs(path)\n",
        "    return path"
      ]
    },
    {
      "cell_type": "markdown",
      "metadata": {
        "id": "bB3ZfSFkkUU2"
      },
      "source": [
        "**Membuka Halaman Web**"
      ]
    },
    {
      "cell_type": "code",
      "execution_count": null,
      "metadata": {
        "id": "xH2SVfH3jPKV"
      },
      "outputs": [],
      "source": [
        "def open_page(link):\n",
        "    count = 0\n",
        "    while count < 3:\n",
        "        try:\n",
        "            return BeautifulSoup(requests.get(link).text, \"lxml\")\n",
        "        except:\n",
        "            count += 1\n",
        "            time.sleep(5)"
      ]
    },
    {
      "cell_type": "code",
      "execution_count": null,
      "metadata": {
        "id": "8zGUUGg4jQuN"
      },
      "outputs": [],
      "source": [
        "# Extract detail from HTML\n",
        "def get_detail(soup, keyword):\n",
        "    try:\n",
        "        text = (\n",
        "            soup.find(lambda tag: tag.name == \"td\" and keyword in tag.text)\n",
        "            .find_next()\n",
        "            .get_text()\n",
        "            .strip()\n",
        "        )\n",
        "        return text\n",
        "    except:\n",
        "        return \"\""
      ]
    },
    {
      "cell_type": "markdown",
      "metadata": {
        "id": "yJ7g7MltklhM"
      },
      "source": [
        "**Pengambilan informasi Barang Bukti dengan elemen \"ul\"**"
      ]
    },
    {
      "cell_type": "code",
      "execution_count": null,
      "metadata": {
        "id": "Pb46I4SdjSb6"
      },
      "outputs": [],
      "source": [
        "def get_barang_bukti(soup):\n",
        "    try:\n",
        "        ul_element = soup.find(lambda tag: tag.name == \"ul\")\n",
        "        if ul_element:\n",
        "            return \" \".join([li.get_text(strip=True) for li in ul_element.find_all(\"li\")])\n",
        "        return \"\"\n",
        "    except:\n",
        "        return \"\""
      ]
    },
    {
      "cell_type": "markdown",
      "metadata": {
        "id": "ex88E4KjkzcC"
      },
      "source": [
        "**Download dan Membaca PDF**"
      ]
    },
    {
      "cell_type": "code",
      "execution_count": null,
      "metadata": {
        "id": "TPE3mH8CjUiK"
      },
      "outputs": [],
      "source": [
        "def get_pdf(url, path_pdf):\n",
        "    file = urllib.request.urlopen(url)\n",
        "    file_name = file.info().get_filename().replace(\"/\", \" \")\n",
        "    file_content = file.read()\n",
        "    with open(f\"{path_pdf}/{file_name}\", \"wb\") as out_file:\n",
        "        out_file.write(file_content)\n",
        "    return io.BytesIO(file_content), file_name"
      ]
    },
    {
      "cell_type": "markdown",
      "metadata": {
        "id": "xeSjywEFk4Yu"
      },
      "source": [
        "**PreProsessing Teks**"
      ]
    },
    {
      "cell_type": "code",
      "execution_count": null,
      "metadata": {
        "id": "Om7J5SSWjWOE"
      },
      "outputs": [],
      "source": [
        "def preprocess_text(text):\n",
        "    \"\"\"\n",
        "    Membersihkan teks dari string yang tidak diinginkan.\n",
        "    Berlaku untuk teks dari HTML atau PDF.\n",
        "    \"\"\"\n",
        "    # String yang tidak diinginkan\n",
        "    unwanted_strings = [\n",
        "        \"M a h ka m a h A g u n g R e p u blik In d o n esia\\n\",\n",
        "        \"Disclaimer\\n\",\n",
        "        \"Kepaniteraan Mahkamah Agung Republik Indonesia berusaha untuk selalu mencantumkan informasi paling kini dan akurat sebagai bentuk komitmen Mahkamah Agung untuk pelayanan publik, transparansi dan akuntabilitas\\n\",\n",
        "        \"pelaksanaan fungsi peradilan. Namun dalam hal-hal tertentu masih dimungkinkan terjadi permasalahan teknis terkait dengan akurasi dan keterkinian informasi yang kami sajikan, hal mana akan terus kami perbaiki dari waktu kewaktu.\\n\",\n",
        "        \"Dalam hal Anda menemukan inakurasi informasi yang termuat pada situs ini atau informasi yang seharusnya ada, namun belum tersedia, maka harap segera hubungi Kepaniteraan Mahkamah Agung RI melalui :\\n\",\n",
        "        \"Email : kepaniteraan@mahkamahagung.go.id    Telp : 021-384 3348 (ext.318)\\n\",\n",
        "        \"Direktori Putusan Mahkamah Agung Republik Indonesia\",\n",
        "        \"putusan.mahkamahagung.go.id\",\n",
        "        \"hkama ahkamah Agung Repub ahkamah Agung Republik Indonesia mah Agung Republik Indonesia blik Indonesi\",\n",
        "        \"Disclaimer Kepaniteraan Mahkamah Agung Republik Indonesia berusaha untuk selalu mencantumkan informasi paling kini dan akurat sebagai bentuk komitmen Mahkamah Agung untuk pelayanan publik, transparansi dan akuntabilitas pelaksanaan fungsi peradilan. Namun dalam hal-hal tertentu masih dimungkinkan terjadi permasalahan teknis terkait dengan akurasi dan keterkinian informasi yang kami sajikan, hal mana akan terus kami perbaiki dari waktu kewaktu. Dalam hal Anda menemukan inakurasi informasi yang termuat pada situs ini atau informasi yang seharusnya ada, namun belum tersedia, maka harap segera hubungi Kepaniteraan Mahkamah Agung RI melalui : Email : kepaniteraan@mahkamahagung.go.id Telp : 021-384 3348 (ext.318)\",\n",
        "    ]\n",
        "\n",
        "    # Hapus string yang tidak diinginkan\n",
        "    for unwanted in unwanted_strings:\n",
        "        text = text.replace(unwanted, \"\")\n",
        "\n",
        "    # Hapus variasi kata \"mengadili\"\n",
        "    text = re.sub(r\"(?i)^[\\sMENGADILI:]*m[\\s]*e[\\s]*n[\\s]*g[\\s]*a[\\s]*d[\\s]*i[\\s]*l[\\s]*i[\\s:]*\", \"\", text)\n",
        "\n",
        "    # Tambahkan spasi jika teks tidak memiliki spasi\n",
        "    if not re.search(r\"\\s\", text):\n",
        "        text = \" \".join(re.findall(r\"[A-Za-z]+\", text))\n",
        "\n",
        "    return text.strip()\n"
      ]
    },
    {
      "cell_type": "markdown",
      "metadata": {
        "id": "Ct5lsSixlH4D"
      },
      "source": [
        "**pengambilan dan menyimpan informasi data pada google drive**"
      ]
    },
    {
      "cell_type": "code",
      "execution_count": null,
      "metadata": {
        "id": "MfAZhbW8yw9d"
      },
      "outputs": [],
      "source": [
        "def extract_data(link, keyword_url):\n",
        "    global today, path_output, path_pdf, path_putusan\n",
        "\n",
        "    path_output = '/content/drive/MyDrive/UAS TKI/Data'\n",
        "    path_pdf = '/content/drive/MyDrive/UAS TKI/Data/PDF'\n",
        "    path_putusan = '/content/drive/MyDrive/UAS TKI/Data/TXT'\n",
        "    today = date.today().strftime(\"%Y-%m-%d\")\n",
        "\n",
        "    os.makedirs(path_output, exist_ok=True)\n",
        "    os.makedirs(path_pdf, exist_ok=True)\n",
        "    os.makedirs(path_putusan, exist_ok=True)\n",
        "\n",
        "    soup = open_page(link)\n",
        "    table = soup.find(\"table\", {\"class\": \"table\"})\n",
        "    table.find(\"h2\").decompose()\n",
        "\n",
        "    nomor = preprocess_text(get_detail(table, \"Nomor\"))\n",
        "    lembaga_peradilan = preprocess_text(get_detail(table, \"Lembaga Peradilan\"))\n",
        "    barang_bukti = preprocess_text(get_barang_bukti(table))\n",
        "    catatan_amar = preprocess_text(get_detail(table, \"Catatan Amar\"))\n",
        "\n",
        "    try:\n",
        "        link_pdf = soup.find(\"a\", href=re.compile(r\"/pdf/\"))\n",
        "        if link_pdf:\n",
        "            file_pdf, file_name_pdf = get_pdf(link_pdf[\"href\"], path_pdf)\n",
        "\n",
        "            # Ekstraksi teks dari PDF\n",
        "            reader = PdfReader(file_pdf)\n",
        "            text_pdf = \"\".join([page.extract_text() for page in reader.pages])\n",
        "            text_pdf = preprocess_text(text_pdf)\n",
        "\n",
        "            # Simpan teks ke file TXT dalam folder putusan\n",
        "            txt_file_path = os.path.join(path_putusan, f\"{file_name_pdf}_{today}.txt\")\n",
        "            with open(txt_file_path, 'w', encoding='utf-8') as txt_file:\n",
        "                txt_file.write(text_pdf)\n",
        "        else:\n",
        "            text_pdf, file_name_pdf = \"\", \"\"\n",
        "    except Exception as e:\n",
        "        print(f\"Error processing PDF: {e}\")\n",
        "        link_pdf = \"\"\n",
        "        text_pdf = \"\"\n",
        "        file_name_pdf = \"\"\n",
        "\n",
        "    # Validasi data sebelum ditambahkan ke DataFrame\n",
        "    data = [\n",
        "        nomor if nomor else \"N/A\",\n",
        "        lembaga_peradilan if lembaga_peradilan else \"N/A\",\n",
        "        barang_bukti if barang_bukti else \"N/A\",\n",
        "        catatan_amar if catatan_amar else \"N/A\",\n",
        "    ]\n",
        "\n",
        "    # Filter baris yang kosong atau tidak valid\n",
        "    if any(data):\n",
        "        result = pd.DataFrame(\n",
        "            [data],\n",
        "            columns=[\n",
        "                \"Nomor\",\n",
        "                \"Lembaga Peradilan\",\n",
        "                \"Barang Bukti\",\n",
        "                \"Catatan Amar\",\n",
        "            ],\n",
        "        )\n",
        "\n",
        "        keyword_url = keyword_url.replace(\"/\", \" \")\n",
        "        if keyword_url.startswith(\"https\"):\n",
        "            keyword_url = \"\"\n",
        "\n",
        "        destination = f\"{path_output}/putusan_ma_PNTangerang.csv\"\n",
        "\n",
        "        # Simpan dengan penanganan file yang ada\n",
        "        if not os.path.isfile(destination):\n",
        "            result.to_csv(destination, mode=\"w\", encoding=\"utf-8\", index=False)\n",
        "        else:\n",
        "            result.to_csv(destination, mode=\"a\", encoding=\"utf-8\", header=False, index=False)"
      ]
    },
    {
      "cell_type": "markdown",
      "metadata": {
        "id": "_x6yVcmQlxwr"
      },
      "source": [
        "**Melakukan Crawling**"
      ]
    },
    {
      "cell_type": "code",
      "execution_count": null,
      "metadata": {
        "id": "egqJ6nUijhrY"
      },
      "outputs": [],
      "source": [
        "# Run scraper\n",
        "def run_scraper(keyword=None, url=None, sort_date=True, download_pdf=True):\n",
        "    if not keyword and not url:\n",
        "        print(\"Please provide a keyword or URL\")\n",
        "        return\n",
        "\n",
        "    path_output = '/content/drive/MyDrive/Temu Kembali Informasi/Data/PDF'\n",
        "    path_pdf = create_path(\"pdf-putusan\")\n",
        "\n",
        "    today = date.today().strftime(\"%Y-%m-%d\")\n",
        "\n",
        "    link = f\"https://putusan3.mahkamahagung.go.id/search.html?q={keyword}&page=1\"\n",
        "\n",
        "    if url:\n",
        "        link = url\n",
        "\n",
        "    soup = open_page(link)\n",
        "\n",
        "    last_page = int(\n",
        "        soup.find_all(\"a\", {\"class\": \"page-link\"})[-1].get(\"data-ci-pagination-page\")\n",
        "    )\n",
        "\n",
        "    if url:\n",
        "        print(f\"Scraping with url: {url} - {1 * last_page} data - {last_page} page\")\n",
        "    else:\n",
        "        print(f\"Scraping with keyword: {keyword} - {1 * last_page} data - {last_page} page\")\n",
        "\n",
        "    if url:\n",
        "        keyword_url = url\n",
        "    else:\n",
        "        keyword_url = keyword\n",
        "\n",
        "    futures = []\n",
        "    with ThreadPoolExecutor(max_workers=4) as executor:\n",
        "        for page in range(last_page):\n",
        "            futures.append(\n",
        "                executor.submit(run_process, keyword_url, page + 1, sort_date)\n",
        "            )\n",
        "    wait(futures)"
      ]
    },
    {
      "cell_type": "code",
      "execution_count": null,
      "metadata": {
        "id": "UbFfwiusjv1s"
      },
      "outputs": [],
      "source": [
        "def run_process(keyword_url, page, sort_page):\n",
        "\n",
        "    if keyword_url.startswith(\"https\"):\n",
        "        link = f\"{keyword_url}&page={page}\"\n",
        "    else:\n",
        "        link = f\"https://putusan3.mahkamahagung.go.id/search.html?q={keyword_url}&page={page}\"\n",
        "    if sort_page:\n",
        "        link = f\"{link}&obf=TANGGAL_PUTUS&obm=desc\"\n",
        "\n",
        "    print(link)\n",
        "\n",
        "    soup = open_page(link)\n",
        "    links = soup.find_all(\"a\", {\"href\": re.compile(\"/direktori/putusan\")})\n",
        "\n",
        "    for link in links:\n",
        "        extract_data(link[\"href\"], keyword_url)\n",
        "\n",
        "def scrape_specific_url(url, download_pdf=True):\n",
        "    if not url or not url.startswith(\"https://\"):\n",
        "        print(\"Please provide a valid URL\")\n",
        "        return\n",
        "\n",
        "    extract_data(url, url)"
      ]
    },
    {
      "cell_type": "code",
      "execution_count": null,
      "metadata": {
        "id": "n4TPF-6jjxrr"
      },
      "outputs": [],
      "source": [
        "def scrape_specific_url(url, download_pdf=True):\n",
        "    if not url or not url.startswith(\"https://\"):\n",
        "        print(\"Please provide a valid URL\")\n",
        "        return\n",
        "\n",
        "    extract_data(url, url)"
      ]
    },
    {
      "cell_type": "markdown",
      "metadata": {
        "id": "RhB5hlGSmGOD"
      },
      "source": [
        "**Crawling pada PN PalangkaRaya**"
      ]
    },
    {
      "cell_type": "code",
      "execution_count": null,
      "metadata": {
        "colab": {
          "base_uri": "https://localhost:8080/"
        },
        "id": "xbV6RnKQzsAp",
        "outputId": "df7cbd28-10cf-459d-c120-43022159b207"
      },
      "outputs": [
        {
          "output_type": "stream",
          "name": "stdout",
          "text": [
            "Scraping with url: https://putusan3.mahkamahagung.go.id/search.html?q=&jenis_doc=putusan&cat=3c40e48bbab311301a21c445b3c7fe57&jd=&tp=&court=097598PN66|097598PN66%20%20%20%20%20%20%20%20%20%20%20%20%20%20%20%20%20%20%20%20%20%20&t_reg=&t_upl=&t_pr=&t_put=2024 - 15 data - 15 page\n",
            "https://putusan3.mahkamahagung.go.id/search.html?q=&jenis_doc=putusan&cat=3c40e48bbab311301a21c445b3c7fe57&jd=&tp=&court=097598PN66|097598PN66%20%20%20%20%20%20%20%20%20%20%20%20%20%20%20%20%20%20%20%20%20%20&t_reg=&t_upl=&t_pr=&t_put=2024&page=1&obf=TANGGAL_PUTUS&obm=desc\n",
            "https://putusan3.mahkamahagung.go.id/search.html?q=&jenis_doc=putusan&cat=3c40e48bbab311301a21c445b3c7fe57&jd=&tp=&court=097598PN66|097598PN66%20%20%20%20%20%20%20%20%20%20%20%20%20%20%20%20%20%20%20%20%20%20&t_reg=&t_upl=&t_pr=&t_put=2024&page=2&obf=TANGGAL_PUTUS&obm=desc\n",
            "https://putusan3.mahkamahagung.go.id/search.html?q=&jenis_doc=putusan&cat=3c40e48bbab311301a21c445b3c7fe57&jd=&tp=&court=097598PN66|097598PN66%20%20%20%20%20%20%20%20%20%20%20%20%20%20%20%20%20%20%20%20%20%20&t_reg=&t_upl=&t_pr=&t_put=2024&page=3&obf=TANGGAL_PUTUS&obm=desc\n",
            "https://putusan3.mahkamahagung.go.id/search.html?q=&jenis_doc=putusan&cat=3c40e48bbab311301a21c445b3c7fe57&jd=&tp=&court=097598PN66|097598PN66%20%20%20%20%20%20%20%20%20%20%20%20%20%20%20%20%20%20%20%20%20%20&t_reg=&t_upl=&t_pr=&t_put=2024&page=4&obf=TANGGAL_PUTUS&obm=desc\n",
            "https://putusan3.mahkamahagung.go.id/search.html?q=&jenis_doc=putusan&cat=3c40e48bbab311301a21c445b3c7fe57&jd=&tp=&court=097598PN66|097598PN66%20%20%20%20%20%20%20%20%20%20%20%20%20%20%20%20%20%20%20%20%20%20&t_reg=&t_upl=&t_pr=&t_put=2024&page=5&obf=TANGGAL_PUTUS&obm=desc\n",
            "https://putusan3.mahkamahagung.go.id/search.html?q=&jenis_doc=putusan&cat=3c40e48bbab311301a21c445b3c7fe57&jd=&tp=&court=097598PN66|097598PN66%20%20%20%20%20%20%20%20%20%20%20%20%20%20%20%20%20%20%20%20%20%20&t_reg=&t_upl=&t_pr=&t_put=2024&page=6&obf=TANGGAL_PUTUS&obm=desc\n",
            "https://putusan3.mahkamahagung.go.id/search.html?q=&jenis_doc=putusan&cat=3c40e48bbab311301a21c445b3c7fe57&jd=&tp=&court=097598PN66|097598PN66%20%20%20%20%20%20%20%20%20%20%20%20%20%20%20%20%20%20%20%20%20%20&t_reg=&t_upl=&t_pr=&t_put=2024&page=7&obf=TANGGAL_PUTUS&obm=desc\n",
            "https://putusan3.mahkamahagung.go.id/search.html?q=&jenis_doc=putusan&cat=3c40e48bbab311301a21c445b3c7fe57&jd=&tp=&court=097598PN66|097598PN66%20%20%20%20%20%20%20%20%20%20%20%20%20%20%20%20%20%20%20%20%20%20&t_reg=&t_upl=&t_pr=&t_put=2024&page=8&obf=TANGGAL_PUTUS&obm=desc\n",
            "https://putusan3.mahkamahagung.go.id/search.html?q=&jenis_doc=putusan&cat=3c40e48bbab311301a21c445b3c7fe57&jd=&tp=&court=097598PN66|097598PN66%20%20%20%20%20%20%20%20%20%20%20%20%20%20%20%20%20%20%20%20%20%20&t_reg=&t_upl=&t_pr=&t_put=2024&page=9&obf=TANGGAL_PUTUS&obm=desc\n",
            "https://putusan3.mahkamahagung.go.id/search.html?q=&jenis_doc=putusan&cat=3c40e48bbab311301a21c445b3c7fe57&jd=&tp=&court=097598PN66|097598PN66%20%20%20%20%20%20%20%20%20%20%20%20%20%20%20%20%20%20%20%20%20%20&t_reg=&t_upl=&t_pr=&t_put=2024&page=10&obf=TANGGAL_PUTUS&obm=desc\n",
            "https://putusan3.mahkamahagung.go.id/search.html?q=&jenis_doc=putusan&cat=3c40e48bbab311301a21c445b3c7fe57&jd=&tp=&court=097598PN66|097598PN66%20%20%20%20%20%20%20%20%20%20%20%20%20%20%20%20%20%20%20%20%20%20&t_reg=&t_upl=&t_pr=&t_put=2024&page=11&obf=TANGGAL_PUTUS&obm=desc\n",
            "https://putusan3.mahkamahagung.go.id/search.html?q=&jenis_doc=putusan&cat=3c40e48bbab311301a21c445b3c7fe57&jd=&tp=&court=097598PN66|097598PN66%20%20%20%20%20%20%20%20%20%20%20%20%20%20%20%20%20%20%20%20%20%20&t_reg=&t_upl=&t_pr=&t_put=2024&page=12&obf=TANGGAL_PUTUS&obm=desc\n",
            "https://putusan3.mahkamahagung.go.id/search.html?q=&jenis_doc=putusan&cat=3c40e48bbab311301a21c445b3c7fe57&jd=&tp=&court=097598PN66|097598PN66%20%20%20%20%20%20%20%20%20%20%20%20%20%20%20%20%20%20%20%20%20%20&t_reg=&t_upl=&t_pr=&t_put=2024&page=13&obf=TANGGAL_PUTUS&obm=desc\n",
            "https://putusan3.mahkamahagung.go.id/search.html?q=&jenis_doc=putusan&cat=3c40e48bbab311301a21c445b3c7fe57&jd=&tp=&court=097598PN66|097598PN66%20%20%20%20%20%20%20%20%20%20%20%20%20%20%20%20%20%20%20%20%20%20&t_reg=&t_upl=&t_pr=&t_put=2024&page=14&obf=TANGGAL_PUTUS&obm=desc\n",
            "https://putusan3.mahkamahagung.go.id/search.html?q=&jenis_doc=putusan&cat=3c40e48bbab311301a21c445b3c7fe57&jd=&tp=&court=097598PN66|097598PN66%20%20%20%20%20%20%20%20%20%20%20%20%20%20%20%20%20%20%20%20%20%20&t_reg=&t_upl=&t_pr=&t_put=2024&page=15&obf=TANGGAL_PUTUS&obm=desc\n"
          ]
        }
      ],
      "source": [
        "# Download Pidana\n",
        "run_scraper(url=\"https://putusan3.mahkamahagung.go.id/search.html?q=&jenis_doc=putusan&cat=3c40e48bbab311301a21c445b3c7fe57&jd=&tp=&court=097598PN66|097598PN66%20%20%20%20%20%20%20%20%20%20%20%20%20%20%20%20%20%20%20%20%20%20&t_reg=&t_upl=&t_pr=&t_put=2024\")"
      ]
    }
  ],
  "metadata": {
    "accelerator": "GPU",
    "colab": {
      "gpuType": "T4",
      "provenance": []
    },
    "kernelspec": {
      "display_name": "Python 3",
      "name": "python3"
    },
    "language_info": {
      "name": "python"
    }
  },
  "nbformat": 4,
  "nbformat_minor": 0
}